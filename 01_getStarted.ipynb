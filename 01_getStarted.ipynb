{
 "cells": [
  {
   "cell_type": "code",
   "execution_count": 2,
   "metadata": {},
   "outputs": [
    {
     "name": "stdout",
     "output_type": "stream",
     "text": [
      "30\n"
     ]
    }
   ],
   "source": [
    "myFirstInteger = 30\n",
    "print (myFirstInteger)"
   ]
  },
  {
   "cell_type": "code",
   "execution_count": 7,
   "metadata": {},
   "outputs": [
    {
     "name": "stdout",
     "output_type": "stream",
     "text": [
      "5\n",
      "3\n",
      "24\n",
      "0.42857142857142855\n",
      "3\n",
      "2\n",
      "27\n"
     ]
    }
   ],
   "source": [
    "print(2+3) #addieren\n",
    "print(5-2) #subtrahieren\n",
    "print(3*8) #multiplizieren\n",
    "print(3/7) #dividieren\n",
    "print(17//5) #Dividieren Ergebnis ist Ganzzahl\n",
    "print(17%5) #Dividieren Ergebnis ist der Rest\n",
    "print(3**3) #potenzieren"
   ]
  },
  {
   "cell_type": "code",
   "execution_count": 8,
   "metadata": {},
   "outputs": [
    {
     "name": "stdout",
     "output_type": "stream",
     "text": [
      "5\n"
     ]
    }
   ],
   "source": [
    "myFirstInteger = 15\n",
    "mySecondInteger = 10\n",
    "e = myFirstInteger-mySecondInteger #2 Variablen subtrahiert und in die Variable e gespeichert\n",
    "print(e)"
   ]
  },
  {
   "cell_type": "code",
   "execution_count": 12,
   "metadata": {},
   "outputs": [
    {
     "name": "stdout",
     "output_type": "stream",
     "text": [
      "62\n"
     ]
    }
   ],
   "source": [
    "age = 42\n",
    "age = age + 10\n",
    "age += 10 #Kurzschreibweise für age + 10\n",
    "\n",
    "print(age)"
   ]
  },
  {
   "cell_type": "code",
   "execution_count": 14,
   "metadata": {},
   "outputs": [
    {
     "name": "stdout",
     "output_type": "stream",
     "text": [
      "42\n",
      "96319007272136\n",
      "43\n",
      "96319007272168\n"
     ]
    }
   ],
   "source": [
    "age = 42\n",
    "print (age) #gibt den Inhalt des Speichers aus\n",
    "print(id(age)) #gibt die Adresse des Speichers aus nicht den Inhalt\n",
    "\n",
    "age = 43\n",
    "print(age)\n",
    "print(id(age))"
   ]
  },
  {
   "cell_type": "code",
   "execution_count": 18,
   "metadata": {},
   "outputs": [
    {
     "name": "stdout",
     "output_type": "stream",
     "text": [
      "139394681746848\n",
      "{3, 4, 5}\n",
      "{4, 5}\n",
      "139394681746848\n",
      "139394681745056\n"
     ]
    }
   ],
   "source": [
    "myList = set() #Erstellen einer Liste\n",
    "print(id(myList))\n",
    "myList.add(3) #Wert 3 in die Liste hinzufügen\n",
    "myList.add(4) #Wert 4 in die Liste hinzufügen\n",
    "myList.add(5) #Wert 5 in die Liste hinzufügen\n",
    "print(myList)\n",
    "myList.remove(3) #Wert 3 aus der Liste entfernen\n",
    "print(myList)\n",
    "print(id(myList)) #selbe ID wie oben, weil selbe Liste\n",
    "myList = set ()\n",
    "print(id(myList)) #neue ID wird erst ausgegeben, wenn neue Liste gesetzt wird"
   ]
  },
  {
   "cell_type": "code",
   "execution_count": 23,
   "metadata": {},
   "outputs": [
    {
     "name": "stdout",
     "output_type": "stream",
     "text": [
      "1\n",
      "1.75\n",
      "3,41Corinna\n"
     ]
    }
   ],
   "source": [
    "t1 = int(1.75) \n",
    "print(t1) #Integer kann nur ganze Zahlen, darum wird nur 1 ausgegeben\n",
    "t1=1.75 #Punkt für Kommazahlen\n",
    "print(t1)\n",
    "t1=\"3,41\" + \"Corinna\" #um Kommas zu machen braucht es Anführungszeichen, weil es dann ein Text wird und das Plus ist dann keine mathematische Operation mehr\n",
    "print(t1)"
   ]
  },
  {
   "cell_type": "code",
   "execution_count": 27,
   "metadata": {},
   "outputs": [
    {
     "name": "stdout",
     "output_type": "stream",
     "text": [
      "1048575\n",
      "1048675\n"
     ]
    }
   ],
   "source": [
    "t2 = int(\"FFFFF\", base=16)  # 0 1 2 3 4 5 6 7 8 9 A  B  C  D  E  F\n",
    "print(t2)                   # 0 1 2 3 4 5 6 7 8 9 10 11 12 13 14 15\n",
    "\n",
    "t2=t2+100\n",
    "print(t2)"
   ]
  },
  {
   "cell_type": "code",
   "execution_count": 28,
   "metadata": {},
   "outputs": [
    {
     "data": {
      "text/plain": [
       "sys.float_info(max=1.7976931348623157e+308, max_exp=1024, max_10_exp=308, min=2.2250738585072014e-308, min_exp=-1021, min_10_exp=-307, dig=15, mant_dig=53, epsilon=2.220446049250313e-16, radix=2, rounds=1)"
      ]
     },
     "execution_count": 28,
     "metadata": {},
     "output_type": "execute_result"
    }
   ],
   "source": [
    "import sys\n",
    "\n",
    "sys.float_info"
   ]
  },
  {
   "cell_type": "code",
   "execution_count": 43,
   "metadata": {},
   "outputs": [
    {
     "name": "stdout",
     "output_type": "stream",
     "text": [
      "False\n",
      "-5.551115123125783e-17\n",
      "True\n"
     ]
    }
   ],
   "source": [
    "print(0.3-(0.1*3) ==0)\n",
    "print(0.3-(0.1*3))\n",
    "print(0.3-(0.1*3) >= -0.1 and 0.3-(0.1*3) <0.1)"
   ]
  },
  {
   "cell_type": "code",
   "execution_count": 44,
   "metadata": {},
   "outputs": [
    {
     "name": "stdout",
     "output_type": "stream",
     "text": [
      "1\n",
      "0\n",
      "True\n",
      "False\n",
      "True\n",
      "True\n",
      "\n",
      "False\n",
      "True\n",
      "True\n",
      "False\n",
      "True\n"
     ]
    }
   ],
   "source": [
    "print(int(True))\n",
    "print(int(False))\n",
    "print(bool(1))\n",
    "print(bool(0))\n",
    "print(bool(-10))\n",
    "print(bool(10))\n",
    "\n",
    "print()\n",
    "print(not True)\n",
    "print(not False)\n",
    "print (True or False)\n",
    "print (True and False)\n",
    "print (True and True)"
   ]
  },
  {
   "cell_type": "code",
   "execution_count": 47,
   "metadata": {},
   "outputs": [
    {
     "name": "stdout",
     "output_type": "stream",
     "text": [
      "3.14\n",
      "2.73\n",
      "(3.14-2.73j)\n"
     ]
    }
   ],
   "source": [
    "c = complex(3.14,2.73)\n",
    "print (c.real)\n",
    "print (c.imag)\n",
    "print(c.conjugate())"
   ]
  },
  {
   "cell_type": "code",
   "execution_count": 55,
   "metadata": {},
   "outputs": [
    {
     "name": "stdout",
     "output_type": "stream",
     "text": [
      "Hallo Welt\n"
     ]
    }
   ],
   "source": [
    "str = \"Hallo Welt\"\n",
    "str1 = \"Hallo Welt\"\n",
    "str2 = \"\"\"Hallo\n",
    "\n",
    "Welt\"\"\"\n",
    "print(str)"
   ]
  }
 ],
 "metadata": {
  "kernelspec": {
   "display_name": "Python 3",
   "language": "python",
   "name": "python3"
  },
  "language_info": {
   "codemirror_mode": {
    "name": "ipython",
    "version": 3
   },
   "file_extension": ".py",
   "mimetype": "text/x-python",
   "name": "python",
   "nbconvert_exporter": "python",
   "pygments_lexer": "ipython3",
   "version": "3.12.1"
  }
 },
 "nbformat": 4,
 "nbformat_minor": 2
}
